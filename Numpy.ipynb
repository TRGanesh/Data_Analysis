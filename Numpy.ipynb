{
 "cells": [
  {
   "cell_type": "markdown",
   "id": "0d764275",
   "metadata": {},
   "source": [
    "# Numpy"
   ]
  },
  {
   "cell_type": "markdown",
   "id": "e6159388",
   "metadata": {},
   "source": [
    "Numpy stands for Numerical Python.\\\n",
    "Numpy is used for doing mathematical computations.\\\n",
    "Numpy makes use of arrays rather than lists.\\\n",
    "Numpy arrays can also store multiple data types as python lists."
   ]
  },
  {
   "cell_type": "markdown",
   "id": "6ac484a2",
   "metadata": {},
   "source": [
    "## Benefits on using arrays\n",
    "   1.Memory efficient than lists\\\n",
    "   2.We can do broadcasting operations on numpy arrays.\\\n",
    "   3.Most of the other libraries(Scipy,Matplotlib,Pandas,Seaborn,Scikit Learn..) make use of these numpy arrays"
   ]
  },
  {
   "cell_type": "code",
   "execution_count": 93,
   "id": "70811a3d",
   "metadata": {},
   "outputs": [],
   "source": [
    "#importing Numpy\n",
    "import numpy as np"
   ]
  },
  {
   "cell_type": "code",
   "execution_count": 94,
   "id": "93587444",
   "metadata": {},
   "outputs": [],
   "source": [
    "# making numpy arrays\n",
    "arr=np.array([1,2,3,4,5])"
   ]
  },
  {
   "cell_type": "code",
   "execution_count": 95,
   "id": "b0eabc89",
   "metadata": {},
   "outputs": [
    {
     "data": {
      "text/plain": [
       "array([1, 2, 3, 4, 5])"
      ]
     },
     "execution_count": 95,
     "metadata": {},
     "output_type": "execute_result"
    }
   ],
   "source": [
    "arr"
   ]
  },
  {
   "cell_type": "code",
   "execution_count": 96,
   "id": "e4047d0a",
   "metadata": {},
   "outputs": [
    {
     "data": {
      "text/plain": [
       "dtype('int64')"
      ]
     },
     "execution_count": 96,
     "metadata": {},
     "output_type": "execute_result"
    }
   ],
   "source": [
    "arr.dtype # By dtype function,we get the data type of the elements "
   ]
  },
  {
   "cell_type": "code",
   "execution_count": 97,
   "id": "ca48f4b5",
   "metadata": {},
   "outputs": [
    {
     "data": {
      "text/plain": [
       "numpy.ndarray"
      ]
     },
     "execution_count": 97,
     "metadata": {},
     "output_type": "execute_result"
    }
   ],
   "source": [
    "type(arr) "
   ]
  },
  {
   "cell_type": "markdown",
   "id": "3a2af2a2",
   "metadata": {},
   "source": [
    "Arrays can be of n-dimensional.\\\n",
    "Vectors are 1-dimensional arrays.\\\n",
    "Matrix is 2-dimensional numpy array."
   ]
  },
  {
   "cell_type": "code",
   "execution_count": 98,
   "id": "0de21b8c",
   "metadata": {},
   "outputs": [
    {
     "data": {
      "text/plain": [
       "(5,)"
      ]
     },
     "execution_count": 98,
     "metadata": {},
     "output_type": "execute_result"
    }
   ],
   "source": [
    "arr.shape # Getting shape of arr"
   ]
  },
  {
   "cell_type": "code",
   "execution_count": 99,
   "id": "e6269db6",
   "metadata": {},
   "outputs": [
    {
     "name": "stdout",
     "output_type": "stream",
     "text": [
      "Above defined array is of 1 dimensions\n"
     ]
    }
   ],
   "source": [
    "# checking dimensions of arr \n",
    "#                      by using arr.ndim function    \n",
    "print(f\"Above defined array is of {arr.ndim} dimensions\")"
   ]
  },
  {
   "cell_type": "code",
   "execution_count": 100,
   "id": "fce67bc6",
   "metadata": {
    "scrolled": true
   },
   "outputs": [
    {
     "data": {
      "text/plain": [
       "4"
      ]
     },
     "execution_count": 100,
     "metadata": {},
     "output_type": "execute_result"
    }
   ],
   "source": [
    "# INDEXING \n",
    "#      Starts from 0 \n",
    "arr[3] "
   ]
  },
  {
   "cell_type": "code",
   "execution_count": 101,
   "id": "e193ff9e",
   "metadata": {},
   "outputs": [
    {
     "data": {
      "text/plain": [
       "5"
      ]
     },
     "execution_count": 101,
     "metadata": {},
     "output_type": "execute_result"
    }
   ],
   "source": [
    "# NEGATIVE INDEXING\n",
    "#       Last element index starts from -1\n",
    "arr[-1]"
   ]
  },
  {
   "cell_type": "code",
   "execution_count": 102,
   "id": "fc1f4c12",
   "metadata": {},
   "outputs": [],
   "source": [
    "# Creating a Matrix\n",
    "matrix=np.array([[1,2,3],[4,5,6],[7,8,9]])"
   ]
  },
  {
   "cell_type": "code",
   "execution_count": 103,
   "id": "001eafaa",
   "metadata": {},
   "outputs": [
    {
     "data": {
      "text/plain": [
       "array([[1, 2, 3],\n",
       "       [4, 5, 6],\n",
       "       [7, 8, 9]])"
      ]
     },
     "execution_count": 103,
     "metadata": {},
     "output_type": "execute_result"
    }
   ],
   "source": [
    "matrix"
   ]
  },
  {
   "cell_type": "code",
   "execution_count": 104,
   "id": "01caba4b",
   "metadata": {},
   "outputs": [
    {
     "data": {
      "text/plain": [
       "(3, 3)"
      ]
     },
     "execution_count": 104,
     "metadata": {},
     "output_type": "execute_result"
    }
   ],
   "source": [
    "matrix.shape"
   ]
  },
  {
   "cell_type": "code",
   "execution_count": 105,
   "id": "1c8e47d2",
   "metadata": {},
   "outputs": [
    {
     "data": {
      "text/plain": [
       "2"
      ]
     },
     "execution_count": 105,
     "metadata": {},
     "output_type": "execute_result"
    }
   ],
   "source": [
    "matrix.ndim # checking dimensions of matrix"
   ]
  },
  {
   "cell_type": "code",
   "execution_count": 106,
   "id": "fe20b0ca",
   "metadata": {},
   "outputs": [
    {
     "data": {
      "text/plain": [
       "array([4, 5, 6])"
      ]
     },
     "execution_count": 106,
     "metadata": {},
     "output_type": "execute_result"
    }
   ],
   "source": [
    "matrix[1] # Here,we are printing 1st row"
   ]
  },
  {
   "cell_type": "code",
   "execution_count": 107,
   "id": "d640da19",
   "metadata": {},
   "outputs": [
    {
     "data": {
      "text/plain": [
       "6"
      ]
     },
     "execution_count": 107,
     "metadata": {},
     "output_type": "execute_result"
    }
   ],
   "source": [
    "matrix[1,2] # Getting element at 1st row,2nd column"
   ]
  },
  {
   "cell_type": "markdown",
   "id": "744660af",
   "metadata": {},
   "source": [
    "# we can create data by using numpy"
   ]
  },
  {
   "cell_type": "markdown",
   "id": "6d17fd6f",
   "metadata": {},
   "source": [
    "## Using arange function"
   ]
  },
  {
   "cell_type": "markdown",
   "id": "ab4e3928",
   "metadata": {},
   "source": [
    "np.arange(start,stop,step)"
   ]
  },
  {
   "cell_type": "code",
   "execution_count": 108,
   "id": "77e08e4f",
   "metadata": {},
   "outputs": [
    {
     "data": {
      "text/plain": [
       "array([0, 1, 2, 3, 4, 5, 6, 7, 8, 9])"
      ]
     },
     "execution_count": 108,
     "metadata": {},
     "output_type": "execute_result"
    }
   ],
   "source": [
    "np.arange(10)"
   ]
  },
  {
   "cell_type": "code",
   "execution_count": 109,
   "id": "4a633fce",
   "metadata": {},
   "outputs": [
    {
     "data": {
      "text/plain": [
       "array([0, 2, 4, 6, 8])"
      ]
     },
     "execution_count": 109,
     "metadata": {},
     "output_type": "execute_result"
    }
   ],
   "source": [
    "np.arange(0,10,2) "
   ]
  },
  {
   "cell_type": "markdown",
   "id": "501c1c96",
   "metadata": {},
   "source": [
    "## Using zeros function"
   ]
  },
  {
   "cell_type": "markdown",
   "id": "3eb89a78",
   "metadata": {},
   "source": [
    "zeros(shape,dtype=float)"
   ]
  },
  {
   "cell_type": "code",
   "execution_count": 110,
   "id": "1fd06162",
   "metadata": {},
   "outputs": [
    {
     "data": {
      "text/plain": [
       "array([0., 0., 0.])"
      ]
     },
     "execution_count": 110,
     "metadata": {},
     "output_type": "execute_result"
    }
   ],
   "source": [
    "np.zeros(3)"
   ]
  },
  {
   "cell_type": "code",
   "execution_count": 111,
   "id": "85f24591",
   "metadata": {},
   "outputs": [
    {
     "data": {
      "text/plain": [
       "array([[0.],\n",
       "       [0.],\n",
       "       [0.]])"
      ]
     },
     "execution_count": 111,
     "metadata": {},
     "output_type": "execute_result"
    }
   ],
   "source": [
    "np.zeros((3,1)) # here default dtype is float"
   ]
  },
  {
   "cell_type": "code",
   "execution_count": 112,
   "id": "a20b3d6d",
   "metadata": {},
   "outputs": [
    {
     "data": {
      "text/plain": [
       "array([[0],\n",
       "       [0],\n",
       "       [0]])"
      ]
     },
     "execution_count": 112,
     "metadata": {},
     "output_type": "execute_result"
    }
   ],
   "source": [
    "np.zeros((3,1),dtype=int) # here dtype is int"
   ]
  },
  {
   "cell_type": "markdown",
   "id": "bc2524f5",
   "metadata": {},
   "source": [
    "## As same as zeros function in numpy,there is ones function\n",
    "    That creates matrices of specified shape,having all elements as 1"
   ]
  },
  {
   "cell_type": "code",
   "execution_count": 113,
   "id": "d0911335",
   "metadata": {},
   "outputs": [
    {
     "data": {
      "text/plain": [
       "array([[1, 1],\n",
       "       [1, 1],\n",
       "       [1, 1]])"
      ]
     },
     "execution_count": 113,
     "metadata": {},
     "output_type": "execute_result"
    }
   ],
   "source": [
    "np.ones((3,2),dtype=int)"
   ]
  },
  {
   "cell_type": "markdown",
   "id": "1553897c",
   "metadata": {},
   "source": [
    "## Using eye function\n",
    "    Returns identity matrix of specified shape"
   ]
  },
  {
   "cell_type": "code",
   "execution_count": 114,
   "id": "983fef2c",
   "metadata": {},
   "outputs": [
    {
     "data": {
      "text/plain": [
       "array([[1., 0., 0.],\n",
       "       [0., 1., 0.],\n",
       "       [0., 0., 1.]])"
      ]
     },
     "execution_count": 114,
     "metadata": {},
     "output_type": "execute_result"
    }
   ],
   "source": [
    "np.eye(3) # Here,we got 3x3 identity matrix"
   ]
  },
  {
   "cell_type": "markdown",
   "id": "22015fc4",
   "metadata": {},
   "source": [
    "# Slicing\n"
   ]
  },
  {
   "cell_type": "code",
   "execution_count": 115,
   "id": "0cbdeee4",
   "metadata": {},
   "outputs": [],
   "source": [
    "arr1=np.arange(10)"
   ]
  },
  {
   "cell_type": "code",
   "execution_count": 116,
   "id": "cbed63ab",
   "metadata": {},
   "outputs": [
    {
     "data": {
      "text/plain": [
       "array([0, 1, 2, 3, 4, 5])"
      ]
     },
     "execution_count": 116,
     "metadata": {},
     "output_type": "execute_result"
    }
   ],
   "source": [
    "arr1[0:6] # Here,we got elements from index postion 0 to index position 5 NOT including index 6"
   ]
  },
  {
   "cell_type": "code",
   "execution_count": 117,
   "id": "b950cfcf",
   "metadata": {},
   "outputs": [
    {
     "data": {
      "text/plain": [
       "array([1, 2, 3, 4, 5, 6, 7, 8, 9])"
      ]
     },
     "execution_count": 117,
     "metadata": {},
     "output_type": "execute_result"
    }
   ],
   "source": [
    "arr1[1:] # Here,we got elements from index 1 to last index"
   ]
  },
  {
   "cell_type": "code",
   "execution_count": 118,
   "id": "6bb2e688",
   "metadata": {},
   "outputs": [
    {
     "data": {
      "text/plain": [
       "array([0, 1, 2, 3, 4, 5, 6, 7, 8, 9])"
      ]
     },
     "execution_count": 118,
     "metadata": {},
     "output_type": "execute_result"
    }
   ],
   "source": [
    "arr1[:] # Here,we got all elements in list"
   ]
  },
  {
   "cell_type": "code",
   "execution_count": 119,
   "id": "a9a6e771",
   "metadata": {},
   "outputs": [
    {
     "data": {
      "text/plain": [
       "array([0, 1, 2, 3])"
      ]
     },
     "execution_count": 119,
     "metadata": {},
     "output_type": "execute_result"
    }
   ],
   "source": [
    "arr1[:4] # Here,we got elements upto index 3 NOT including 3"
   ]
  },
  {
   "cell_type": "code",
   "execution_count": 120,
   "id": "9790e549",
   "metadata": {},
   "outputs": [
    {
     "data": {
      "text/plain": [
       "array([0, 2, 4, 6])"
      ]
     },
     "execution_count": 120,
     "metadata": {},
     "output_type": "execute_result"
    }
   ],
   "source": [
    "# arr[start:end:step]\n",
    "arr1[0:8:2]"
   ]
  },
  {
   "cell_type": "code",
   "execution_count": 121,
   "id": "be22b8c3",
   "metadata": {},
   "outputs": [
    {
     "data": {
      "text/plain": [
       "array([5, 6, 7, 8])"
      ]
     },
     "execution_count": 121,
     "metadata": {},
     "output_type": "execute_result"
    }
   ],
   "source": [
    "# SLICING USING NEGATIVE INDEXING\n",
    "arr1[-5:-1]"
   ]
  },
  {
   "cell_type": "markdown",
   "id": "afb3d9c7",
   "metadata": {},
   "source": [
    "## Using linspace funtion\n",
    "   This function returns evenly spaced numbers over a specified interval"
   ]
  },
  {
   "cell_type": "code",
   "execution_count": 122,
   "id": "7b42f541",
   "metadata": {},
   "outputs": [
    {
     "data": {
      "text/plain": [
       "array([  0.,  25.,  50.,  75., 100.])"
      ]
     },
     "execution_count": 122,
     "metadata": {},
     "output_type": "execute_result"
    }
   ],
   "source": [
    "np.linspace(0,100,5) # we got 5 numbers in between 0 and 100,having same difference between them"
   ]
  },
  {
   "cell_type": "markdown",
   "id": "c8a9cf2f",
   "metadata": {},
   "source": [
    "## Numpy-Random Module"
   ]
  },
  {
   "cell_type": "markdown",
   "id": "d7852d75",
   "metadata": {},
   "source": [
    "Random number does NOT mean a different number every time.We cannot predict that number logically. "
   ]
  },
  {
   "cell_type": "code",
   "execution_count": 123,
   "id": "7ef76c76",
   "metadata": {},
   "outputs": [
    {
     "data": {
      "text/plain": [
       "array([[0.06863852],\n",
       "       [0.07533272]])"
      ]
     },
     "execution_count": 123,
     "metadata": {},
     "output_type": "execute_result"
    }
   ],
   "source": [
    "np.random.rand(2,1) # We got random values of shape 2x1 "
   ]
  },
  {
   "cell_type": "markdown",
   "id": "a112a708",
   "metadata": {},
   "source": [
    "## np.random.randint\n",
    "np.random.randint(low,high,size)"
   ]
  },
  {
   "cell_type": "code",
   "execution_count": 124,
   "id": "1217a11e",
   "metadata": {},
   "outputs": [
    {
     "data": {
      "text/plain": [
       "array([17, 11, 17, 10])"
      ]
     },
     "execution_count": 124,
     "metadata": {},
     "output_type": "execute_result"
    }
   ],
   "source": [
    "np.random.randint(low=0,high=20,size=4) # Here,we got 4 random numbers in between 0 and 20"
   ]
  },
  {
   "cell_type": "markdown",
   "id": "b5a63b62",
   "metadata": {},
   "source": [
    "## np.random.randn"
   ]
  },
  {
   "cell_type": "code",
   "execution_count": 125,
   "id": "de3dd92c",
   "metadata": {},
   "outputs": [
    {
     "data": {
      "text/plain": [
       "array([[-0.55933648, -0.08687402],\n",
       "       [-0.23741198, -1.36069489],\n",
       "       [-0.16085056, -0.34757393],\n",
       "       [-0.09708836,  0.19831304]])"
      ]
     },
     "execution_count": 125,
     "metadata": {},
     "output_type": "execute_result"
    }
   ],
   "source": [
    "np.random.randn(4,2) # Here,we also get some negative numbers"
   ]
  },
  {
   "cell_type": "markdown",
   "id": "2c4244a0",
   "metadata": {},
   "source": [
    "## Difference between np.random.rand and np.random.randn\n",
    "   numpy.random.randn generates samples from the normal distribution where as \\\n",
    "   numpy.random.rand generates samples in range [0,1]"
   ]
  },
  {
   "cell_type": "markdown",
   "id": "cf214f9b",
   "metadata": {},
   "source": [
    "## Numpy Seed\n",
    "    Seed is used to intialize random number generator.\n",
    "    By using it,we get same set of nmubers every time."
   ]
  },
  {
   "cell_type": "markdown",
   "id": "b63b8916",
   "metadata": {},
   "source": [
    "#### Here,condition is we have to set the seed and produce random numbers in SAME CELL"
   ]
  },
  {
   "cell_type": "code",
   "execution_count": 126,
   "id": "77a13eec",
   "metadata": {},
   "outputs": [
    {
     "data": {
      "text/plain": [
       "array([82, 87, 16, 98, 23, 58, 28, 93, 92, 42])"
      ]
     },
     "execution_count": 126,
     "metadata": {},
     "output_type": "execute_result"
    }
   ],
   "source": [
    "np.random.seed(31)\n",
    "np.random.randint(low=0,high=100,size=10) # First time printing random numbers"
   ]
  },
  {
   "cell_type": "code",
   "execution_count": 127,
   "id": "31e7ad11",
   "metadata": {},
   "outputs": [
    {
     "data": {
      "text/plain": [
       "array([82, 87, 16, 98, 23, 58, 28, 93, 92, 42])"
      ]
     },
     "execution_count": 127,
     "metadata": {},
     "output_type": "execute_result"
    }
   ],
   "source": [
    "np.random.seed(31)\n",
    "np.random.randint(low=0,high=100,size=10) # Second time printing random numbers,\n",
    "                                          # We got same random numbers as we used same SEED"
   ]
  },
  {
   "cell_type": "markdown",
   "id": "572d919c",
   "metadata": {},
   "source": [
    "## Getting maximum and minimum values in a numpy array\n",
    "    By using max and min functions"
   ]
  },
  {
   "cell_type": "code",
   "execution_count": 128,
   "id": "c4253b43",
   "metadata": {},
   "outputs": [
    {
     "data": {
      "text/plain": [
       "array([1, 2, 3, 4, 5])"
      ]
     },
     "execution_count": 128,
     "metadata": {},
     "output_type": "execute_result"
    }
   ],
   "source": [
    "arr"
   ]
  },
  {
   "cell_type": "code",
   "execution_count": 129,
   "id": "efbc980f",
   "metadata": {},
   "outputs": [
    {
     "name": "stdout",
     "output_type": "stream",
     "text": [
      "maximum element in arr is 5\n",
      "maximum element in arr is 1\n"
     ]
    }
   ],
   "source": [
    "print(f'maximum element in arr is {arr.max()}')\n",
    "print(f'maximum element in arr is {arr.min()}')"
   ]
  },
  {
   "cell_type": "markdown",
   "id": "f1876aa8",
   "metadata": {},
   "source": [
    "### we can also get index of maximum and minimum elements of array\n",
    "    By using argmax() and argmin() functions"
   ]
  },
  {
   "cell_type": "code",
   "execution_count": 130,
   "id": "04116fe6",
   "metadata": {},
   "outputs": [
    {
     "name": "stdout",
     "output_type": "stream",
     "text": [
      "Maximum element is at index 4\n",
      "Minimum element is at index 0\n"
     ]
    }
   ],
   "source": [
    "print(f\"Maximum element is at index {arr.argmax()}\")\n",
    "print(f\"Minimum element is at index {arr.argmin()}\")"
   ]
  },
  {
   "cell_type": "markdown",
   "id": "7f8c551d",
   "metadata": {},
   "source": [
    "### We can run small queries like \n",
    "    Are array elements greater than a particular number?.. "
   ]
  },
  {
   "cell_type": "code",
   "execution_count": 131,
   "id": "149e2991",
   "metadata": {},
   "outputs": [
    {
     "data": {
      "text/plain": [
       "array([ 1,  5,  9, 13, 17, 21, 25, 29, 33, 37, 41, 45, 49])"
      ]
     },
     "execution_count": 131,
     "metadata": {},
     "output_type": "execute_result"
    }
   ],
   "source": [
    "new_arr=np.arange(1,50,4)\n",
    "new_arr"
   ]
  },
  {
   "cell_type": "code",
   "execution_count": 132,
   "id": "64b29977",
   "metadata": {},
   "outputs": [
    {
     "data": {
      "text/plain": [
       "array([False, False, False,  True,  True,  True,  True,  True,  True,\n",
       "        True,  True,  True,  True])"
      ]
     },
     "execution_count": 132,
     "metadata": {},
     "output_type": "execute_result"
    }
   ],
   "source": [
    "new_arr > 10 # It returns a boolean array "
   ]
  },
  {
   "cell_type": "code",
   "execution_count": 133,
   "id": "d09b5353",
   "metadata": {},
   "outputs": [
    {
     "data": {
      "text/plain": [
       "array([False, False, False,  True,  True,  True,  True,  True,  True,\n",
       "        True,  True,  True,  True])"
      ]
     },
     "execution_count": 133,
     "metadata": {},
     "output_type": "execute_result"
    }
   ],
   "source": [
    "bool_array= (new_arr > 10)\n",
    "bool_array"
   ]
  },
  {
   "cell_type": "code",
   "execution_count": 134,
   "id": "51defe04",
   "metadata": {},
   "outputs": [
    {
     "data": {
      "text/plain": [
       "dtype('bool')"
      ]
     },
     "execution_count": 134,
     "metadata": {},
     "output_type": "execute_result"
    }
   ],
   "source": [
    "bool_array.dtype"
   ]
  },
  {
   "cell_type": "code",
   "execution_count": 135,
   "id": "59f06318",
   "metadata": {},
   "outputs": [
    {
     "data": {
      "text/plain": [
       "array([13, 17, 21, 25, 29, 33, 37, 41, 45, 49])"
      ]
     },
     "execution_count": 135,
     "metadata": {},
     "output_type": "execute_result"
    }
   ],
   "source": [
    "# To get those elements which satisfy the condition\n",
    "new_arr[bool_array]"
   ]
  },
  {
   "cell_type": "code",
   "execution_count": 136,
   "id": "7a75ab0d",
   "metadata": {},
   "outputs": [
    {
     "data": {
      "text/plain": [
       "array([13, 17, 21, 25, 29, 33, 37, 41, 45, 49])"
      ]
     },
     "execution_count": 136,
     "metadata": {},
     "output_type": "execute_result"
    }
   ],
   "source": [
    "# Simple way to do it is\n",
    "new_arr[new_arr > 10]"
   ]
  },
  {
   "cell_type": "markdown",
   "id": "8aa1da4b",
   "metadata": {},
   "source": [
    "## Arithmetic operations on numpy arrays"
   ]
  },
  {
   "cell_type": "code",
   "execution_count": 137,
   "id": "bae9f060",
   "metadata": {},
   "outputs": [
    {
     "data": {
      "text/plain": [
       "array([1, 2, 3, 4, 5])"
      ]
     },
     "execution_count": 137,
     "metadata": {},
     "output_type": "execute_result"
    }
   ],
   "source": [
    "arr"
   ]
  },
  {
   "cell_type": "code",
   "execution_count": 138,
   "id": "e2bdaee9",
   "metadata": {},
   "outputs": [
    {
     "data": {
      "text/plain": [
       "array([2, 3, 4, 5, 6])"
      ]
     },
     "execution_count": 138,
     "metadata": {},
     "output_type": "execute_result"
    }
   ],
   "source": [
    "arr + 1 # Here,each element get added with 1(scalar),.like that we can do multiplication,subtraction,division.."
   ]
  },
  {
   "cell_type": "code",
   "execution_count": 139,
   "id": "b73e682a",
   "metadata": {},
   "outputs": [
    {
     "data": {
      "text/plain": [
       "array([ 2,  4,  6,  8, 10])"
      ]
     },
     "execution_count": 139,
     "metadata": {},
     "output_type": "execute_result"
    }
   ],
   "source": [
    "arr + arr # Here,2 arrays get added,.like that we can add n number of different or same arrays"
   ]
  },
  {
   "cell_type": "code",
   "execution_count": 140,
   "id": "3ae7b7f3",
   "metadata": {},
   "outputs": [
    {
     "data": {
      "text/plain": [
       "array([ 1,  4,  9, 16, 25])"
      ]
     },
     "execution_count": 140,
     "metadata": {},
     "output_type": "execute_result"
    }
   ],
   "source": [
    "arr ** 2 # Exponentation "
   ]
  },
  {
   "cell_type": "markdown",
   "id": "3b1384ea",
   "metadata": {},
   "source": [
    "## Some of the statistical functions in numpy"
   ]
  },
  {
   "cell_type": "code",
   "execution_count": 141,
   "id": "4b7a254d",
   "metadata": {},
   "outputs": [],
   "source": [
    "test_array=np.array([5,8,2,4,9,18,31,30,35,87,99])"
   ]
  },
  {
   "cell_type": "code",
   "execution_count": 142,
   "id": "ab917ebf",
   "metadata": {},
   "outputs": [
    {
     "data": {
      "text/plain": [
       "29.818181818181817"
      ]
     },
     "execution_count": 142,
     "metadata": {},
     "output_type": "execute_result"
    }
   ],
   "source": [
    "# Getting MEAN of array\n",
    "test_array.mean()"
   ]
  },
  {
   "cell_type": "code",
   "execution_count": 143,
   "id": "5f6d0753",
   "metadata": {},
   "outputs": [
    {
     "data": {
      "text/plain": [
       "18.0"
      ]
     },
     "execution_count": 143,
     "metadata": {},
     "output_type": "execute_result"
    }
   ],
   "source": [
    "# Getting MEDIAN of array\n",
    "np.median(test_array) "
   ]
  },
  {
   "cell_type": "code",
   "execution_count": 144,
   "id": "70dcb30a",
   "metadata": {},
   "outputs": [
    {
     "data": {
      "text/plain": [
       "328"
      ]
     },
     "execution_count": 144,
     "metadata": {},
     "output_type": "execute_result"
    }
   ],
   "source": [
    "# Getting SUM of all elements in array\n",
    "test_array.sum()"
   ]
  },
  {
   "cell_type": "markdown",
   "id": "31cee0d2",
   "metadata": {},
   "source": [
    "### Standard Deviation\n",
    "    Standard Deviation is a measure of the amount of variation or dispersion of a set of values.\n",
    "    A low standard deviation indicates that the values tend to be close to the mean of the elements set.\n",
    "    A high standard deviation indicates that the values are spread out over a wider range."
   ]
  },
  {
   "cell_type": "code",
   "execution_count": 145,
   "id": "3ff7d48b",
   "metadata": {},
   "outputs": [
    {
     "data": {
      "text/plain": [
       "31.8941949172806"
      ]
     },
     "execution_count": 145,
     "metadata": {},
     "output_type": "execute_result"
    }
   ],
   "source": [
    "# Getting STANDARD DEVIATION of the array\n",
    "test_array.std()"
   ]
  },
  {
   "cell_type": "markdown",
   "id": "21e01fc0",
   "metadata": {},
   "source": [
    "### Variance is sqaured value of Standard Deviation"
   ]
  },
  {
   "cell_type": "code",
   "execution_count": 146,
   "id": "969ba682",
   "metadata": {},
   "outputs": [
    {
     "data": {
      "text/plain": [
       "1017.2396694214876"
      ]
     },
     "execution_count": 146,
     "metadata": {},
     "output_type": "execute_result"
    }
   ],
   "source": [
    "# Getting VARIANCE of the array\n",
    "test_array.var()"
   ]
  },
  {
   "cell_type": "code",
   "execution_count": 147,
   "id": "f7a5e6c5",
   "metadata": {},
   "outputs": [
    {
     "data": {
      "text/plain": [
       "1017.2396694214877"
      ]
     },
     "execution_count": 147,
     "metadata": {},
     "output_type": "execute_result"
    }
   ],
   "source": [
    "test_array.std() ** 2"
   ]
  }
 ],
 "metadata": {
  "kernelspec": {
   "display_name": "Python 3 (ipykernel)",
   "language": "python",
   "name": "python3"
  },
  "language_info": {
   "codemirror_mode": {
    "name": "ipython",
    "version": 3
   },
   "file_extension": ".py",
   "mimetype": "text/x-python",
   "name": "python",
   "nbconvert_exporter": "python",
   "pygments_lexer": "ipython3",
   "version": "3.9.13"
  }
 },
 "nbformat": 4,
 "nbformat_minor": 5
}
